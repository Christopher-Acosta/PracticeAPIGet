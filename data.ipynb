{
 "cells": [
  {
   "cell_type": "code",
   "execution_count": 20,
   "id": "ec1db015",
   "metadata": {},
   "outputs": [
    {
     "data": {
      "text/html": [
       "<div>\n",
       "<style scoped>\n",
       "    .dataframe tbody tr th:only-of-type {\n",
       "        vertical-align: middle;\n",
       "    }\n",
       "\n",
       "    .dataframe tbody tr th {\n",
       "        vertical-align: top;\n",
       "    }\n",
       "\n",
       "    .dataframe thead th {\n",
       "        text-align: right;\n",
       "    }\n",
       "</style>\n",
       "<table border=\"1\" class=\"dataframe\">\n",
       "  <thead>\n",
       "    <tr style=\"text-align: right;\">\n",
       "      <th></th>\n",
       "      <th>id</th>\n",
       "      <th>name</th>\n",
       "      <th>description</th>\n",
       "      <th>enhanced_description</th>\n",
       "      <th>tooltip</th>\n",
       "      <th>movement</th>\n",
       "      <th>seats</th>\n",
       "      <th>order</th>\n",
       "      <th>order_group</th>\n",
       "      <th>patch</th>\n",
       "      <th>item_id</th>\n",
       "      <th>tradeable</th>\n",
       "      <th>owned</th>\n",
       "      <th>image</th>\n",
       "      <th>icon</th>\n",
       "      <th>bgm</th>\n",
       "      <th>sources</th>\n",
       "    </tr>\n",
       "  </thead>\n",
       "  <tbody>\n",
       "    <tr>\n",
       "      <th>0</th>\n",
       "      <td>200</td>\n",
       "      <td>Morbol</td>\n",
       "      <td>Summon forth your morbol. Strong vines, soft h...</td>\n",
       "      <td>Though all it has ever wanted is to help, this...</td>\n",
       "      <td>A morbol!? And things were going so well...   ...</td>\n",
       "      <td>Terrestrial</td>\n",
       "      <td>1</td>\n",
       "      <td>155</td>\n",
       "      <td>4510</td>\n",
       "      <td>5.15</td>\n",
       "      <td>None</td>\n",
       "      <td>False</td>\n",
       "      <td>1.4%</td>\n",
       "      <td>https://ffxivcollect.com/images/mounts/large/2...</td>\n",
       "      <td>https://ffxivcollect.com/images/mounts/small/2...</td>\n",
       "      <td>https://ffxivcollect.com/music/BGM_Ride_AOZ.ogg</td>\n",
       "      <td>{'type': 'Achievement', 'text': 'True Blue', '...</td>\n",
       "    </tr>\n",
       "  </tbody>\n",
       "</table>\n",
       "</div>"
      ],
      "text/plain": [
       "    id    name                                        description  \\\n",
       "0  200  Morbol  Summon forth your morbol. Strong vines, soft h...   \n",
       "\n",
       "                                enhanced_description  \\\n",
       "0  Though all it has ever wanted is to help, this...   \n",
       "\n",
       "                                             tooltip     movement  seats  \\\n",
       "0  A morbol!? And things were going so well...   ...  Terrestrial      1   \n",
       "\n",
       "   order  order_group patch item_id  tradeable owned  \\\n",
       "0    155         4510  5.15    None      False  1.4%   \n",
       "\n",
       "                                               image  \\\n",
       "0  https://ffxivcollect.com/images/mounts/large/2...   \n",
       "\n",
       "                                                icon  \\\n",
       "0  https://ffxivcollect.com/images/mounts/small/2...   \n",
       "\n",
       "                                               bgm  \\\n",
       "0  https://ffxivcollect.com/music/BGM_Ride_AOZ.ogg   \n",
       "\n",
       "                                             sources  \n",
       "0  {'type': 'Achievement', 'text': 'True Blue', '...  "
      ]
     },
     "execution_count": 20,
     "metadata": {},
     "output_type": "execute_result"
    }
   ],
   "source": [
    "import requests\n",
    "import pandas as pd\n",
    "\n",
    "url = \"https://ffxivcollect.com/api/mounts/200\"\n",
    "response = requests.get(url)\n",
    "data = response.json()\n",
    "df = pd.DataFrame(data)\n",
    "df"
   ]
  }
 ],
 "metadata": {
  "kernelspec": {
   "display_name": "Python 3",
   "language": "python",
   "name": "python3"
  },
  "language_info": {
   "codemirror_mode": {
    "name": "ipython",
    "version": 3
   },
   "file_extension": ".py",
   "mimetype": "text/x-python",
   "name": "python",
   "nbconvert_exporter": "python",
   "pygments_lexer": "ipython3",
   "version": "3.13.1"
  }
 },
 "nbformat": 4,
 "nbformat_minor": 5
}
